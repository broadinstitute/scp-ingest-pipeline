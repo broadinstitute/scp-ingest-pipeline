{
 "cells": [
  {
   "cell_type": "code",
   "execution_count": 63,
   "id": "d1a3e26d",
   "metadata": {},
   "outputs": [],
   "source": [
    "!mkdir data\n",
    "!wget http://cf.10xgenomics.com/samples/cell-exp/1.1.0/pbmc3k/pbmc3k_filtered_gene_bc_matrices.tar.gz -O data/pbmc3k_filtered_gene_bc_matrices.tar.gz\n",
    "!cd data; tar -xzf pbmc3k_filtered_gene_bc_matrices.tar.gz\n",
    "!mkdir write\n"
   ]
  },
  {
   "cell_type": "code",
   "execution_count": 64,
   "id": "200440eb",
   "metadata": {},
   "outputs": [],
   "source": [
    "import numpy as np\n",
    "import pandas as pd\n",
    "import scanpy as sc\n",
    "import leidenalg"
   ]
  },
  {
   "cell_type": "code",
   "execution_count": 65,
   "id": "16f7c687",
   "metadata": {},
   "outputs": [],
   "source": [
    "sc.settings.verbosity = 3             # verbosity: errors (0), warnings (1), info (2), hints (3)\n",
    "sc.logging.print_header()\n",
    "sc.settings.set_figure_params(dpi=80, facecolor='white')\n"
   ]
  },
  {
   "cell_type": "code",
   "execution_count": 66,
   "id": "9031e0f5",
   "metadata": {},
   "outputs": [],
   "source": [
    "results_file = 'write/pbmc3k.h5ad'  # the file that will store the analysis results\n"
   ]
  },
  {
   "cell_type": "code",
   "execution_count": 67,
   "id": "75fffccb",
   "metadata": {},
   "outputs": [],
   "source": [
    "adata = sc.read_10x_mtx(\n",
    "    'data/filtered_gene_bc_matrices/hg19/',  # the directory with the `.mtx` file\n",
    "    var_names='gene_symbols',                # use gene symbols for the variable names (variables-axis index)\n",
    "    cache=True)                              # write a cache file for faster subsequent reading\n"
   ]
  },
  {
   "cell_type": "code",
   "execution_count": 68,
   "id": "3f5ec52d",
   "metadata": {},
   "outputs": [],
   "source": [
    "adata.var_names_make_unique()  # this is unnecessary if using `var_names='gene_ids'` in `sc.read_10x_mtx`\n"
   ]
  },
  {
   "cell_type": "code",
   "execution_count": 69,
   "id": "d3fa3dfe",
   "metadata": {},
   "outputs": [],
   "source": [
    "adata"
   ]
  },
  {
   "cell_type": "code",
   "execution_count": 70,
   "id": "c96e1442",
   "metadata": {},
   "outputs": [],
   "source": [
    "sc.pl.highest_expr_genes(adata, n_top=20, )\n"
   ]
  },
  {
   "cell_type": "code",
   "execution_count": 71,
   "id": "523968d6",
   "metadata": {},
   "outputs": [],
   "source": [
    "sc.pp.filter_cells(adata, min_genes=200)\n",
    "sc.pp.filter_genes(adata, min_cells=3)\n"
   ]
  },
  {
   "cell_type": "code",
   "execution_count": 72,
   "id": "84344d90",
   "metadata": {},
   "outputs": [],
   "source": [
    "adata.var['mt'] = adata.var_names.str.startswith('MT-')  # annotate the group of mitochondrial genes as 'mt'\n",
    "sc.pp.calculate_qc_metrics(adata, qc_vars=['mt'], percent_top=None, log1p=False, inplace=True)\n"
   ]
  },
  {
   "cell_type": "code",
   "execution_count": 73,
   "id": "9f02d81b",
   "metadata": {},
   "outputs": [],
   "source": [
    "sc.pl.violin(adata, ['n_genes_by_counts', 'total_counts', 'pct_counts_mt'],\n",
    "             jitter=0.4, multi_panel=True)\n"
   ]
  },
  {
   "cell_type": "code",
   "execution_count": 74,
   "id": "b665199b",
   "metadata": {},
   "outputs": [],
   "source": [
    "sc.pl.scatter(adata, x='total_counts', y='pct_counts_mt')\n",
    "sc.pl.scatter(adata, x='total_counts', y='n_genes_by_counts')\n"
   ]
  },
  {
   "cell_type": "code",
   "execution_count": 75,
   "id": "1099bece",
   "metadata": {},
   "outputs": [],
   "source": [
    "adata = adata[adata.obs.n_genes_by_counts < 2500, :]\n",
    "adata = adata[adata.obs.pct_counts_mt < 5, :]\n"
   ]
  },
  {
   "cell_type": "code",
   "execution_count": 76,
   "id": "9e28b916",
   "metadata": {},
   "outputs": [],
   "source": [
    "sc.pp.normalize_total(adata, target_sum=1e4)\n"
   ]
  },
  {
   "cell_type": "code",
   "execution_count": 77,
   "id": "aaa64a66",
   "metadata": {},
   "outputs": [],
   "source": [
    "sc.pp.log1p(adata)\n"
   ]
  },
  {
   "cell_type": "code",
   "execution_count": 78,
   "id": "36f3afdc",
   "metadata": {},
   "outputs": [],
   "source": [
    "sc.pp.highly_variable_genes(adata, min_mean=0.0125, max_mean=3, min_disp=0.5)\n"
   ]
  },
  {
   "cell_type": "code",
   "execution_count": 79,
   "id": "5f35c67c",
   "metadata": {},
   "outputs": [],
   "source": [
    "sc.pl.highly_variable_genes(adata)\n"
   ]
  },
  {
   "cell_type": "code",
   "execution_count": 80,
   "id": "eeaf11ef",
   "metadata": {},
   "outputs": [],
   "source": [
    "adata.raw = adata\n"
   ]
  },
  {
   "cell_type": "code",
   "execution_count": 81,
   "id": "c4e31605",
   "metadata": {},
   "outputs": [],
   "source": [
    "adata = adata[:, adata.var.highly_variable]\n"
   ]
  },
  {
   "cell_type": "code",
   "execution_count": 82,
   "id": "09c0acb2",
   "metadata": {},
   "outputs": [],
   "source": [
    "sc.pp.regress_out(adata, ['total_counts', 'pct_counts_mt'])\n"
   ]
  },
  {
   "cell_type": "code",
   "execution_count": 83,
   "id": "b6d4f57a",
   "metadata": {},
   "outputs": [],
   "source": [
    "sc.pp.scale(adata, max_value=10)\n"
   ]
  },
  {
   "cell_type": "code",
   "execution_count": 84,
   "id": "4c36791a",
   "metadata": {},
   "outputs": [],
   "source": [
    "sc.tl.pca(adata, svd_solver='arpack')\n"
   ]
  },
  {
   "cell_type": "code",
   "execution_count": 85,
   "id": "75cd216e",
   "metadata": {},
   "outputs": [],
   "source": [
    "sc.pl.pca(adata, color='CST3')\n"
   ]
  },
  {
   "cell_type": "code",
   "execution_count": 86,
   "id": "0e1a1d77",
   "metadata": {},
   "outputs": [],
   "source": [
    "sc.pl.pca_variance_ratio(adata, log=True)\n"
   ]
  },
  {
   "cell_type": "code",
   "execution_count": 87,
   "id": "014042a4",
   "metadata": {},
   "outputs": [],
   "source": [
    "adata.write(results_file)\n"
   ]
  },
  {
   "cell_type": "code",
   "execution_count": 88,
   "id": "c6551ecb",
   "metadata": {},
   "outputs": [],
   "source": [
    "adata\n"
   ]
  },
  {
   "cell_type": "code",
   "execution_count": 89,
   "id": "ca04e1da",
   "metadata": {},
   "outputs": [],
   "source": [
    "sc.pp.neighbors(adata, n_neighbors=10, n_pcs=40)\n"
   ]
  },
  {
   "cell_type": "code",
   "execution_count": 90,
   "id": "e32a5c7f",
   "metadata": {},
   "outputs": [],
   "source": [
    "sc.tl.leiden(adata)\n",
    "sc.tl.paga(adata)\n",
    "sc.pl.paga(adata, plot=False)  # remove `plot=False` if you want to see the coarse-grained graph\n",
    "sc.tl.umap(adata, init_pos='paga')\n"
   ]
  },
  {
   "cell_type": "code",
   "execution_count": 91,
   "id": "199b05ad",
   "metadata": {},
   "outputs": [],
   "source": [
    "sc.tl.umap(adata)\n"
   ]
  },
  {
   "cell_type": "code",
   "execution_count": 92,
   "id": "fc9fcba8",
   "metadata": {},
   "outputs": [],
   "source": [
    "sc.pl.umap(adata, color=['CST3', 'NKG7', 'PPBP'])\n"
   ]
  },
  {
   "cell_type": "code",
   "execution_count": 93,
   "id": "908ffa73",
   "metadata": {},
   "outputs": [],
   "source": [
    "sc.pl.umap(adata, color=['CST3', 'NKG7', 'PPBP'], use_raw=False)\n"
   ]
  },
  {
   "cell_type": "code",
   "execution_count": 94,
   "id": "616bcda4",
   "metadata": {},
   "outputs": [],
   "source": [
    "sc.tl.leiden(adata)\n"
   ]
  },
  {
   "cell_type": "code",
   "execution_count": 95,
   "id": "91d6c9c0",
   "metadata": {},
   "outputs": [],
   "source": [
    "sc.pl.umap(adata, color=['leiden', 'CST3', 'NKG7'])\n"
   ]
  },
  {
   "cell_type": "code",
   "execution_count": 96,
   "id": "4aa5dc95",
   "metadata": {},
   "outputs": [],
   "source": [
    "adata.write(results_file)\n"
   ]
  },
  {
   "cell_type": "code",
   "execution_count": 97,
   "id": "a025428c",
   "metadata": {},
   "outputs": [],
   "source": [
    "sc.tl.rank_genes_groups(adata, 'leiden', method='t-test')\n",
    "sc.pl.rank_genes_groups(adata, n_genes=25, sharey=False)\n"
   ]
  },
  {
   "cell_type": "code",
   "execution_count": 98,
   "id": "80a02c63",
   "metadata": {},
   "outputs": [],
   "source": [
    "sc.settings.verbosity = 2  # reduce the verbosity\n"
   ]
  },
  {
   "cell_type": "code",
   "execution_count": 99,
   "id": "63ef6862",
   "metadata": {},
   "outputs": [],
   "source": [
    "sc.tl.rank_genes_groups(adata, 'leiden', method='wilcoxon')\n",
    "sc.pl.rank_genes_groups(adata, n_genes=25, sharey=False)\n"
   ]
  },
  {
   "cell_type": "code",
   "execution_count": 100,
   "id": "00df4b68",
   "metadata": {},
   "outputs": [],
   "source": [
    "adata.write(results_file)\n"
   ]
  },
  {
   "cell_type": "code",
   "execution_count": 101,
   "id": "7ae25e4f",
   "metadata": {},
   "outputs": [],
   "source": [
    "sc.tl.rank_genes_groups(adata, 'leiden', method='logreg')\n",
    "sc.pl.rank_genes_groups(adata, n_genes=25, sharey=False)\n"
   ]
  },
  {
   "cell_type": "code",
   "execution_count": 102,
   "id": "f700f9d8",
   "metadata": {},
   "outputs": [],
   "source": [
    "marker_genes = ['IL7R', 'CD79A', 'MS4A1', 'CD8A', 'CD8B', 'LYZ', 'CD14',\n",
    "                'LGALS3', 'S100A8', 'GNLY', 'NKG7', 'KLRB1',\n",
    "                'FCGR3A', 'MS4A7', 'FCER1A', 'CST3', 'PPBP']\n"
   ]
  },
  {
   "cell_type": "code",
   "execution_count": 103,
   "id": "5fd45ceb",
   "metadata": {},
   "outputs": [],
   "source": [
    "adata = sc.read(results_file)\n"
   ]
  },
  {
   "cell_type": "code",
   "execution_count": 104,
   "id": "a93005f1",
   "metadata": {},
   "outputs": [],
   "source": [
    "pd.DataFrame(adata.uns['rank_genes_groups']['names']).head(5)\n"
   ]
  },
  {
   "cell_type": "code",
   "execution_count": 105,
   "id": "68d2a267",
   "metadata": {},
   "outputs": [],
   "source": [
    "result = adata.uns['rank_genes_groups']\n",
    "groups = result['names'].dtype.names\n",
    "pd.DataFrame(\n",
    "    {group + '_' + key[:1]: result[key][group]\n",
    "    for group in groups for key in ['names', 'pvals']}).head(5)\n"
   ]
  },
  {
   "cell_type": "code",
   "execution_count": 106,
   "id": "23efaf23",
   "metadata": {},
   "outputs": [],
   "source": [
    "sc.tl.rank_genes_groups(adata, 'leiden', groups=['0'], reference='1', method='wilcoxon')\n",
    "sc.pl.rank_genes_groups(adata, groups=['0'], n_genes=20)\n"
   ]
  },
  {
   "cell_type": "code",
   "execution_count": 107,
   "id": "8ed5c85c",
   "metadata": {},
   "outputs": [],
   "source": [
    "sc.pl.rank_genes_groups_violin(adata, groups='0', n_genes=8)\n"
   ]
  },
  {
   "cell_type": "code",
   "execution_count": 108,
   "id": "04b1130c",
   "metadata": {},
   "outputs": [],
   "source": [
    "adata = sc.read(results_file)\n"
   ]
  },
  {
   "cell_type": "code",
   "execution_count": 109,
   "id": "b644426e",
   "metadata": {},
   "outputs": [],
   "source": [
    "sc.pl.rank_genes_groups_violin(adata, groups='0', n_genes=8)\n"
   ]
  },
  {
   "cell_type": "code",
   "execution_count": 110,
   "id": "a79deace",
   "metadata": {},
   "outputs": [],
   "source": [
    "sc.pl.violin(adata, ['CST3', 'NKG7', 'PPBP'], groupby='leiden')\n"
   ]
  },
  {
   "cell_type": "code",
   "execution_count": 111,
   "id": "964d5d48",
   "metadata": {},
   "outputs": [],
   "source": [
    "new_cluster_names = [\n",
    "    'CD4 T', 'CD14 Monocytes',\n",
    "    'B', 'CD8 T',\n",
    "    'NK', 'FCGR3A Monocytes',\n",
    "    'Dendritic', 'Megakaryocytes']\n",
    "adata.rename_categories('leiden', new_cluster_names)\n"
   ]
  },
  {
   "cell_type": "code",
   "execution_count": 112,
   "id": "14a8774d",
   "metadata": {},
   "outputs": [],
   "source": [
    "sc.pl.umap(adata, color='leiden', legend_loc='on data', title='', frameon=False, save='.pdf')\n"
   ]
  },
  {
   "cell_type": "code",
   "execution_count": 113,
   "id": "6ad8b1de",
   "metadata": {},
   "outputs": [],
   "source": [
    "sc.pl.dotplot(adata, marker_genes, groupby='leiden');\n"
   ]
  },
  {
   "cell_type": "code",
   "execution_count": 114,
   "id": "ad7b7287",
   "metadata": {},
   "outputs": [],
   "source": [
    "sc.pl.stacked_violin(adata, marker_genes, groupby='leiden', rotation=90);\n"
   ]
  },
  {
   "cell_type": "code",
   "execution_count": 115,
   "id": "04489031",
   "metadata": {},
   "outputs": [],
   "source": [
    "adata\n"
   ]
  },
  {
   "cell_type": "code",
   "execution_count": 116,
   "id": "f450c21e",
   "metadata": {},
   "outputs": [],
   "source": [
    "#set biosample_id value\n",
    "#biosample = np.random.choice([\"mm1_lymph\", \"hu1_blood\", \"mm1_blood\", \"mm2_blood\"], size=(adata.n_obs,))\n",
    "adata.obs[\"biosample_id\"] = \"hu1_blood\"\n",
    "\n",
    "#set donor_id value\n",
    "adata.obs[\"donor_id\"] = \"human1\"\n",
    "\n",
    "#set cell_type and cell_type__ontology_label\n",
    "leiden_list = []\n",
    "for i in adata.obs[\"leiden\"]:\n",
    "    leiden_list.append(i)\n",
    "\n",
    "#leiden categories\n",
    "leiden_cell = ['CD4 T', 'CD14 Monocytes', 'B', 'CD8 T', 'NK', 'FCGR3A Monocytes', 'Dendritic', 'Megakaryocytes']\n",
    "\n",
    "#cell_type ontology labels corresponding with above\n",
    "cell_type_ot = [\"CL_0000492\", \"CL_0001054\", \"CL_0000236\", \"CL_0000625\", \"CL_0000814\", \"CL_0000860\", \"CL_0000451\", \"CL_0000556\"]\n",
    "\n",
    "leiden_to_cell_type = dict(zip(leiden_cell, cell_type_ot))\n",
    "\n",
    "cell_type_list = []\n",
    "for i in leiden_list:\n",
    "    cell_type_list.append(leiden_to_cell_type[i])\n",
    "\n",
    "adata.obs[\"cell_type\"] = cell_type_list\n",
    "\n",
    "\n",
    "#cell_type__ontology_label corresponding with above\n",
    "cell_type_ot_label = [\"CD4-positive helper T cell\", \"CD14-positive monocyte\", \"B cell\", \"CD8-positive, alpha-beta T cell\", \"mature NK T cell\", \"classical monocyte\", \"dendritic cell\", \"megakaryocyte\"]\n",
    "\n",
    "leiden_to_cell_ot = dict(zip(leiden_cell, cell_type_ot_label))\n",
    "\n",
    "cell_type_ot_list = []\n",
    "for i in leiden_list:\n",
    "    cell_type_ot_list.append(leiden_to_cell_ot[i])\n",
    "\n",
    "adata.obs[\"cell_type__ontology_label\"] = cell_type_ot_list\n",
    "\n",
    "#set sex value\n",
    "adata.obs[\"sex\"] = \"female\"\n",
    "\n",
    "#set average_intensity value\n",
    "size_intensity = adata.n_obs\n",
    "random_intensities = np.random.uniform(-20, 20, size_intensity)\n",
    "rounded_list = []\n",
    "for i in random_intensities:\n",
    "    rounded_list.append(round(i, 3))\n",
    "    \n",
    "adata.obs[\"average_intensity\"] = rounded_list\n",
    "\n",
    "#set species\n",
    "adata.obs[\"species\"] = \"NCBITaxon_9606\"\n",
    "\n",
    "#set species__ontology\n",
    "adata.obs[\"species__ontology_label\"] = \"Homo sapiens\"\n",
    "\n",
    "#set disease label\n",
    "adata.obs[\"disease\"] = \"PATO_0000461\"\n",
    "\n",
    "#set disease__ontology_label\n",
    "adata.obs[\"disease__ontology_label\"] = \"normal\"\n",
    "\n",
    "#set organ label\n",
    "adata.obs[\"organ\"] = \"UBERON_0000178\"\n",
    "\n",
    "\n",
    "#set organ ontology label\n",
    "adata.obs[\"organ__ontology_label\"] = \"blood\"\n",
    "\n",
    "#set library prepartion protocol\n",
    "adata.obs[\"library_preparation_protocol\"] = \"EFO_0009899\"\n",
    "\n",
    "#set library preparation ontology\n",
    "adata.obs[\"library_preparation_protocol__ontology_label\"] = \"10X 3' v2\"\n"
   ]
  },
  {
   "cell_type": "code",
   "execution_count": 117,
   "id": "7668fa3d",
   "metadata": {
    "scrolled": true
   },
   "outputs": [],
   "source": [
    "df = sc.get.obs_df(adata, keys = ['biosample_id', 'donor_id', 'cell_type', 'cell_type__ontology_label', 'sex', 'average_intensity', 'species', 'species__ontology_label', 'disease', 'disease__ontology_label', 'organ', 'organ__ontology_label', 'library_preparation_protocol', 'library_preparation_protocol__ontology_label'])\n",
    "df"
   ]
  },
  {
   "cell_type": "code",
   "execution_count": 118,
   "id": "aa34714a",
   "metadata": {},
   "outputs": [],
   "source": [
    "adata.write_h5ad(\"test_hdf5_file\")"
   ]
  },
  {
   "cell_type": "code",
   "execution_count": null,
   "id": "58025f3e",
   "metadata": {},
   "outputs": [],
   "source": []
  }
 ],
 "metadata": {
  "kernelspec": {
   "display_name": "Python 3 (ipykernel)",
   "language": "python",
   "name": "python3"
  },
  "language_info": {
   "codemirror_mode": {
    "name": "ipython",
    "version": 3
   },
   "file_extension": ".py",
   "mimetype": "text/x-python",
   "name": "python",
   "nbconvert_exporter": "python",
   "pygments_lexer": "ipython3",
   "version": "3.8.16"
  }
 },
 "nbformat": 4,
 "nbformat_minor": 5
}
